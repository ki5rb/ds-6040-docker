{
 "cells": [
  {
   "cell_type": "code",
   "execution_count": 1,
   "id": "db5c1df1",
   "metadata": {},
   "outputs": [
    {
     "name": "stdout",
     "output_type": "stream",
     "text": [
      "/Users/karunyaiyappan/Desktop/ds-6040-docker/.conda/bin/python\n"
     ]
    }
   ],
   "source": [
    "import sys\n",
    "print(sys.executable)"
   ]
  },
  {
   "cell_type": "markdown",
   "id": "540a0931-2d8e-4e91-9f6b-1687fe31d514",
   "metadata": {},
   "source": [
    "# Assignment 5\n",
    "\n",
    "In this assignment, we'll finally work with some nonconjugate models. I will also introduce you to reparameterization techniques.\n",
    "\n",
    "## Instructions\n",
    "\n",
    "Please complete this Jupyter notebook and **don't** convert it to a `.py` file. Upload this notebook, along with any `.stan` files and any data sets as a `zip` file to Gradescope. \n",
    "\n",
    "Your work will be manually graded by our TA. There is no autograder for this assignment. For free response questions, feel free to add a markdown cell and type in there. Try to keep the preexisting structure as much as possible, and to be organized and label which cells correspond with which questions.\n",
    "\n"
   ]
  },
  {
   "cell_type": "markdown",
   "id": "ba2e1c00-5fcb-401f-807e-22b96cd50dbc",
   "metadata": {},
   "source": [
    "### Problem 1: Poisson Data\n",
    "\n",
    "In the last assignment, we modeled a vector of counts $y = (y_1, \\ldots, y_n)$ using a multinomial distribution. \n",
    "\n",
    "Unlike last time, all of these counts will now assumed to be independent. Further, we can't reasonably put a bound on what each count could be. So, in this problem, we'll use a **Poisson likelihood**:\n",
    "\n",
    "$$\n",
    "L(y \\mid \\theta) = \\prod_{i=1}^n L(y_i \\mid \\theta) \\propto \\prod_{i=1}^n e^{-\\theta}\\theta^{y_i} = e^{-n\\theta}\\theta^{\\sum_i y_i}\n",
    "$$\n",
    "\n",
    "With this likelihood, $\\theta > 0$ is interpreted as a rate or average.\n",
    "\n",
    "The data can be found in `Road_Casualties_in_Great_Britain_1969___84_434_19.csv` Use the `DriversKilled` column only."
   ]
  },
  {
   "cell_type": "markdown",
   "id": "31500b6f-1f05-45a7-ab21-ceb1e5d7a0d7",
   "metadata": {},
   "source": [
    "1.\n",
    "\n",
    "Name a conjugate prior for this likelihood! Write your single-word answer in Gradescope."
   ]
  },
  {
   "cell_type": "markdown",
   "id": "c924d293",
   "metadata": {},
   "source": [
    "Gamma distribution"
   ]
  },
  {
   "cell_type": "markdown",
   "id": "b85fc3d5-f387-4521-b0a0-e280921c5bd5",
   "metadata": {},
   "source": [
    "2.\n",
    "\n",
    "Suppose that the previous answer does not suite your needs, and that you want to use a lognormal prior! Pick a specific prior distribution (i.e. specify the hyperparameters), and describe a rationale as to why you chose them. \n",
    "\n"
   ]
  },
  {
   "cell_type": "markdown",
   "id": "362b82fe",
   "metadata": {},
   "source": [
    "Log-Normal(2, 0.5)\n",
    "\n",
    "When looking at the data, the average number of drivers killed per row seems to be around 120, and number of drivers per row seems to be around 1600. This gives us an average rate of deaths at around 7.5%. Furthermore, I would estimate that the number of drivers killed would be less than 10%, but more than 6-7%. If we are taking a lognormal prior, this would make the mean hyperparameter for the distribution around 2. \n",
    "\n",
    "I chose a standard deviation of 0.5 to reflect a pretty moderate confidence in what the data is actually like. "
   ]
  },
  {
   "cell_type": "markdown",
   "id": "a49e2c63-8838-47e1-8014-eda5b216d1ce",
   "metadata": {},
   "source": [
    "3.\n",
    "\n",
    "Use `stan` to estimate your model for the \"DriversKilled\" column. Please be sure to \n",
    "\n",
    " - report an $\\hat{R}$ diagnostic and comment on whether it is close to $1$\n",
    " - display trace plots of your samples obtained and comment on whether they look like \"fuzzy caterpillars.\"\n",
    "\n",
    "Then, after checking diagnostics...\n",
    "\n",
    " - display a histogram of the posterior for $\\theta$\n",
    " - report estimates of the mean, 5th and 95th percentiles of this posterior\n",
    " - comment on whether your posterior mean is close to the frequentist estimator of $\\theta$ (which is the sample mean of your data)\n"
   ]
  },
  {
   "cell_type": "code",
   "execution_count": 2,
   "id": "a1983aa1",
   "metadata": {},
   "outputs": [
    {
     "ename": "ModuleNotFoundError",
     "evalue": "No module named 'pandas'",
     "output_type": "error",
     "traceback": [
      "\u001b[0;31m---------------------------------------------------------------------------\u001b[0m",
      "\u001b[0;31mModuleNotFoundError\u001b[0m                       Traceback (most recent call last)",
      "Cell \u001b[0;32mIn[2], line 1\u001b[0m\n\u001b[0;32m----> 1\u001b[0m \u001b[38;5;28;01mimport\u001b[39;00m \u001b[38;5;21;01mpandas\u001b[39;00m \u001b[38;5;28;01mas\u001b[39;00m \u001b[38;5;21;01mpd\u001b[39;00m\n\u001b[1;32m      3\u001b[0m data \u001b[38;5;241m=\u001b[39m pd\u001b[38;5;241m.\u001b[39mread_csv(\u001b[38;5;124m'\u001b[39m\u001b[38;5;124mRoad_Casualties_in_Great_Britain_1969___84_434_19.csv\u001b[39m\u001b[38;5;124m'\u001b[39m)\n",
      "\u001b[0;31mModuleNotFoundError\u001b[0m: No module named 'pandas'"
     ]
    }
   ],
   "source": [
    "import pandas as pd\n",
    "\n",
    "data = pd.read_csv('Road_Casualties_in_Great_Britain_1969___84_434_19.csv')"
   ]
  },
  {
   "cell_type": "code",
   "execution_count": 3,
   "id": "9e7c618b",
   "metadata": {},
   "outputs": [
    {
     "ename": "ModuleNotFoundError",
     "evalue": "No module named 'cmdstanpy'",
     "output_type": "error",
     "traceback": [
      "\u001b[0;31m---------------------------------------------------------------------------\u001b[0m",
      "\u001b[0;31mModuleNotFoundError\u001b[0m                       Traceback (most recent call last)",
      "Cell \u001b[0;32mIn[3], line 2\u001b[0m\n\u001b[1;32m      1\u001b[0m \u001b[38;5;28;01mimport\u001b[39;00m \u001b[38;5;21;01mos\u001b[39;00m\n\u001b[0;32m----> 2\u001b[0m \u001b[38;5;28;01mfrom\u001b[39;00m \u001b[38;5;21;01mcmdstanpy\u001b[39;00m \u001b[38;5;28;01mimport\u001b[39;00m CmdStanModel\n\u001b[1;32m      4\u001b[0m model_code \u001b[38;5;241m=\u001b[39m os\u001b[38;5;241m.\u001b[39mpath\u001b[38;5;241m.\u001b[39mjoin(\u001b[38;5;124m'\u001b[39m\u001b[38;5;124m.\u001b[39m\u001b[38;5;124m'\u001b[39m, \u001b[38;5;124m'\u001b[39m\u001b[38;5;124mtest.stan\u001b[39m\u001b[38;5;124m'\u001b[39m)\n\u001b[1;32m      5\u001b[0m model \u001b[38;5;241m=\u001b[39m CmdStanModel(stan_file\u001b[38;5;241m=\u001b[39mmodel_code)\n",
      "\u001b[0;31mModuleNotFoundError\u001b[0m: No module named 'cmdstanpy'"
     ]
    }
   ],
   "source": [
    "import os\n",
    "from cmdstanpy import CmdStanModel\n",
    "\n",
    "model_code = os.path.join('.', 'test.stan')\n",
    "model = CmdStanModel(stan_file=model_code)\n"
   ]
  },
  {
   "cell_type": "code",
   "execution_count": 29,
   "id": "f22577ae",
   "metadata": {},
   "outputs": [
    {
     "name": "stderr",
     "output_type": "stream",
     "text": [
      "22:32:25 - cmdstanpy - INFO - CmdStan start processing\n"
     ]
    },
    {
     "data": {
      "application/vnd.jupyter.widget-view+json": {
       "model_id": "c2dca475c5db47a1ab54184174071ad1",
       "version_major": 2,
       "version_minor": 0
      },
      "text/plain": [
       "chain 1 |          | 00:00 Status"
      ]
     },
     "metadata": {},
     "output_type": "display_data"
    },
    {
     "data": {
      "application/vnd.jupyter.widget-view+json": {
       "model_id": "460cfcc659ab47b0b4b93a8888b5e64c",
       "version_major": 2,
       "version_minor": 0
      },
      "text/plain": [
       "chain 2 |          | 00:00 Status"
      ]
     },
     "metadata": {},
     "output_type": "display_data"
    },
    {
     "data": {
      "application/vnd.jupyter.widget-view+json": {
       "model_id": "c42d9cfc08424e9985f1b0500c83dff6",
       "version_major": 2,
       "version_minor": 0
      },
      "text/plain": [
       "chain 3 |          | 00:00 Status"
      ]
     },
     "metadata": {},
     "output_type": "display_data"
    },
    {
     "data": {
      "application/vnd.jupyter.widget-view+json": {
       "model_id": "4e038195909c4c9d849338494e7883d8",
       "version_major": 2,
       "version_minor": 0
      },
      "text/plain": [
       "chain 4 |          | 00:00 Status"
      ]
     },
     "metadata": {},
     "output_type": "display_data"
    },
    {
     "name": "stderr",
     "output_type": "stream",
     "text": [
      "22:32:25 - cmdstanpy - ERROR - Chain [2] error: error during processing Operation not permitted\n",
      "22:32:25 - cmdstanpy - ERROR - Chain [4] error: error during processing Operation not permitted\n",
      "22:32:25 - cmdstanpy - ERROR - Chain [1] error: error during processing Operation not permitted\n",
      "22:32:25 - cmdstanpy - ERROR - Chain [3] error: error during processing Operation not permitted\n"
     ]
    },
    {
     "name": "stdout",
     "output_type": "stream",
     "text": [
      "                                                                                                                                                                                                                                                                                                                                "
     ]
    },
    {
     "name": "stderr",
     "output_type": "stream",
     "text": [
      "22:32:25 - cmdstanpy - INFO - CmdStan done processing.\n"
     ]
    },
    {
     "name": "stdout",
     "output_type": "stream",
     "text": [
      "\n"
     ]
    },
    {
     "ename": "RuntimeError",
     "evalue": "Error during sampling:\nException: mismatch in number dimensions declared and found in context; processing stage=data initialization; variable name=y; dims declared=(); dims found=(192) (in 'test.stan', line 2, column 4 to column 19)\nException: mismatch in number dimensions declared and found in context; processing stage=data initialization; variable name=y; dims declared=(); dims found=(192) (in 'test.stan', line 2, column 4 to column 19)\nException: mismatch in number dimensions declared and found in context; processing stage=data initialization; variable name=y; dims declared=(); dims found=(192) (in 'test.stan', line 2, column 4 to column 19)\nException: mismatch in number dimensions declared and found in context; processing stage=data initialization; variable name=y; dims declared=(); dims found=(192) (in 'test.stan', line 2, column 4 to column 19)\nCommand and output files:\nRunSet: chains=4, chain_ids=[1, 2, 3, 4], num_processes=4\n cmd (chain 1):\n\t['/bml24/test', 'id=1', 'random', 'seed=7633', 'data', 'file=/tmp/tmprfgxtxy3/ulz6fvv0.json', 'output', 'file=/tmp/tmprfgxtxy3/testgualb9mk/test-20240927223225_1.csv', 'method=sample', 'algorithm=hmc', 'adapt', 'engaged=1']\n retcodes=[1, 1, 1, 1]\n per-chain output files (showing chain 1 only):\n csv_file:\n\t/tmp/tmprfgxtxy3/testgualb9mk/test-20240927223225_1.csv\n console_msgs (if any):\n\t/tmp/tmprfgxtxy3/testgualb9mk/test-20240927223225_0-stdout.txt\nConsider re-running with show_console=True if the above output is unclear!",
     "output_type": "error",
     "traceback": [
      "\u001b[0;31m---------------------------------------------------------------------------\u001b[0m",
      "\u001b[0;31mRuntimeError\u001b[0m                              Traceback (most recent call last)",
      "Cell \u001b[0;32mIn[29], line 4\u001b[0m\n\u001b[1;32m      1\u001b[0m \u001b[38;5;28;01mimport\u001b[39;00m \u001b[38;5;21;01mnumpy\u001b[39;00m \u001b[38;5;28;01mas\u001b[39;00m \u001b[38;5;21;01mnp\u001b[39;00m \n\u001b[1;32m      2\u001b[0m normal_data \u001b[38;5;241m=\u001b[39m {\u001b[38;5;124m'\u001b[39m\u001b[38;5;124mn\u001b[39m\u001b[38;5;124m'\u001b[39m: data\u001b[38;5;241m.\u001b[39mshape[\u001b[38;5;241m0\u001b[39m], \u001b[38;5;124m'\u001b[39m\u001b[38;5;124my\u001b[39m\u001b[38;5;124m'\u001b[39m: data[\u001b[38;5;124m'\u001b[39m\u001b[38;5;124mDriversKilled\u001b[39m\u001b[38;5;124m'\u001b[39m]}\n\u001b[0;32m----> 4\u001b[0m fit \u001b[38;5;241m=\u001b[39m \u001b[43mmodel\u001b[49m\u001b[38;5;241;43m.\u001b[39;49m\u001b[43msample\u001b[49m\u001b[43m(\u001b[49m\u001b[43mnormal_data\u001b[49m\u001b[43m)\u001b[49m\n",
      "File \u001b[0;32m/usr/local/lib/python3.11/site-packages/cmdstanpy/model.py:1136\u001b[0m, in \u001b[0;36mCmdStanModel.sample\u001b[0;34m(self, data, chains, parallel_chains, threads_per_chain, seed, chain_ids, inits, iter_warmup, iter_sampling, save_warmup, thin, max_treedepth, metric, step_size, adapt_engaged, adapt_delta, adapt_init_phase, adapt_metric_window, adapt_step_size, fixed_param, output_dir, sig_figs, save_latent_dynamics, save_profile, show_progress, show_console, refresh, time_fmt, timeout, force_one_process_per_chain)\u001b[0m\n\u001b[1;32m   1131\u001b[0m     \u001b[38;5;28;01mif\u001b[39;00m \u001b[38;5;129;01mnot\u001b[39;00m show_console:\n\u001b[1;32m   1132\u001b[0m         msg \u001b[38;5;241m+\u001b[39m\u001b[38;5;241m=\u001b[39m (\n\u001b[1;32m   1133\u001b[0m             \u001b[38;5;124m'\u001b[39m\u001b[38;5;130;01m\\n\u001b[39;00m\u001b[38;5;124mConsider re-running with show_console=True if the\u001b[39m\u001b[38;5;124m'\u001b[39m\n\u001b[1;32m   1134\u001b[0m             \u001b[38;5;124m'\u001b[39m\u001b[38;5;124m above output is unclear!\u001b[39m\u001b[38;5;124m'\u001b[39m\n\u001b[1;32m   1135\u001b[0m         )\n\u001b[0;32m-> 1136\u001b[0m     \u001b[38;5;28;01mraise\u001b[39;00m \u001b[38;5;167;01mRuntimeError\u001b[39;00m(msg)\n\u001b[1;32m   1137\u001b[0m \u001b[38;5;28;01mif\u001b[39;00m errors:\n\u001b[1;32m   1138\u001b[0m     msg \u001b[38;5;241m=\u001b[39m \u001b[38;5;124mf\u001b[39m\u001b[38;5;124m'\u001b[39m\u001b[38;5;124mNon-fatal error during sampling:\u001b[39m\u001b[38;5;130;01m\\n\u001b[39;00m\u001b[38;5;132;01m{\u001b[39;00merrors\u001b[38;5;132;01m}\u001b[39;00m\u001b[38;5;124m'\u001b[39m\n",
      "\u001b[0;31mRuntimeError\u001b[0m: Error during sampling:\nException: mismatch in number dimensions declared and found in context; processing stage=data initialization; variable name=y; dims declared=(); dims found=(192) (in 'test.stan', line 2, column 4 to column 19)\nException: mismatch in number dimensions declared and found in context; processing stage=data initialization; variable name=y; dims declared=(); dims found=(192) (in 'test.stan', line 2, column 4 to column 19)\nException: mismatch in number dimensions declared and found in context; processing stage=data initialization; variable name=y; dims declared=(); dims found=(192) (in 'test.stan', line 2, column 4 to column 19)\nException: mismatch in number dimensions declared and found in context; processing stage=data initialization; variable name=y; dims declared=(); dims found=(192) (in 'test.stan', line 2, column 4 to column 19)\nCommand and output files:\nRunSet: chains=4, chain_ids=[1, 2, 3, 4], num_processes=4\n cmd (chain 1):\n\t['/bml24/test', 'id=1', 'random', 'seed=7633', 'data', 'file=/tmp/tmprfgxtxy3/ulz6fvv0.json', 'output', 'file=/tmp/tmprfgxtxy3/testgualb9mk/test-20240927223225_1.csv', 'method=sample', 'algorithm=hmc', 'adapt', 'engaged=1']\n retcodes=[1, 1, 1, 1]\n per-chain output files (showing chain 1 only):\n csv_file:\n\t/tmp/tmprfgxtxy3/testgualb9mk/test-20240927223225_1.csv\n console_msgs (if any):\n\t/tmp/tmprfgxtxy3/testgualb9mk/test-20240927223225_0-stdout.txt\nConsider re-running with show_console=True if the above output is unclear!"
     ]
    }
   ],
   "source": [
    "import numpy as np \n",
    "normal_data = {'n': data.shape[0], 'y': data['DriversKilled']}\n",
    "\n",
    "fit = model.sample(normal_data)"
   ]
  },
  {
   "cell_type": "markdown",
   "id": "bf59ef4a-4560-49f8-a441-171ec4a76caf",
   "metadata": {},
   "source": [
    "4.\n",
    "\n",
    "Now use `stan` to estimate a slightly reparameterized model. Suppose you want to use a normal prior on an unconstrained parameter. Notice that if something is positive, then the (natural) log of it is unconstrained. Similarly, if something is unconstrained, the exponential of it is positive.\n",
    "\n",
    "Therefore, use the following model\n",
    "\n",
    "\n",
    "$$\n",
    "\\theta \\sim \\text{Normal}(a,b)\n",
    "$$\n",
    "and\n",
    "$$\n",
    "y_i \\mid \\theta \\sim \\text{Poisson}(e^{\\theta})\n",
    "$$\n",
    "\n",
    "    \n",
    "Use `stan` to estimate your model for the \"DriversKilled\" column. Please be sure to \n",
    "\n",
    " - report an $\\hat{R}$ diagnostic and comment on whether it is close to $1$\n",
    " - display trace plots of your samples obtained and comment on whether they look like \"fuzzy caterpillars.\"\n",
    "\n",
    "Then, after checking diagnostics...\n",
    "\n",
    " - display a histogram of the posterior for $\\theta$\n",
    " - display a histogram of the posterior for the transformed parameter, too.\n",
    " - report estimates of the mean, 5th and 95th percentiles of the posterior of the unconstrained $\\theta$\n",
    " - comment on whether your posterior mean is close to the frequentist estimator (which is the sample mean of your data)\n"
   ]
  },
  {
   "cell_type": "markdown",
   "id": "04a3a363-3db1-4e96-a83f-237300cd0b70",
   "metadata": {},
   "source": [
    "4.\n",
    "\n",
    "Now use `stan` to estimate a slightly reparameterized model. Suppose you want to use a normal prior on an unconstrained parameter. Notice that if something is positive, then the (natural) log of it is unconstrained. Similarly, if something is unconstrained, the exponential of it is positive.\n",
    "\n",
    "Therefore, use the following model\n",
    "\n",
    "\n",
    "$$\n",
    "\\theta \\sim \\text{Normal}(a,b)\n",
    "$$\n",
    "and\n",
    "$$\n",
    "y_i \\mid \\theta \\sim \\text{Poisson}(e^{\\theta})\n",
    "$$\n",
    "\n",
    "    \n",
    "Use `stan` to estimate your model for the \"DriversKilled\" column. Please be sure to \n",
    "\n",
    " - report an $\\hat{R}$ diagnostic and comment on whether it is close to $1$\n",
    " - display trace plots of your samples obtained and comment on whether they look like \"fuzzy caterpillars.\"\n",
    "\n",
    "Then, after checking diagnostics...\n",
    "\n",
    " - display a histogram of the posterior for $\\theta$\n",
    " - display a histogram of the posterior for the transformed parameter, too.\n",
    " - report estimates of the mean, 5th and 95th percentiles of the posterior of the unconstrained $\\theta$\n",
    " - comment on whether your posterior mean is close to the frequentist estimator (which is the sample mean of your data)\n"
   ]
  },
  {
   "cell_type": "markdown",
   "id": "a2e9eb43-44f2-4de7-9b61-16bd790173f9",
   "metadata": {},
   "source": [
    "4.\n",
    "\n",
    "Now use `stan` to estimate a slightly reparameterized model. Suppose you want to use a normal prior on an unconstrained parameter. Notice that if something is positive, then the (natural) log of it is unconstrained. Similarly, if something is unconstrained, the exponential of it is positive.\n",
    "\n",
    "Therefore, use the following model\n",
    "\n",
    "\n",
    "$$\n",
    "\\theta \\sim \\text{Normal}(a,b)\n",
    "$$\n",
    "and\n",
    "$$\n",
    "y_i \\mid \\theta \\sim \\text{Poisson}(e^{\\theta})\n",
    "$$\n",
    "\n",
    "    \n",
    "Use `stan` to estimate your model for the \"DriversKilled\" column. Please be sure to \n",
    "\n",
    " - report an $\\hat{R}$ diagnostic and comment on whether it is close to $1$\n",
    " - display trace plots of your samples obtained and comment on whether they look like \"fuzzy caterpillars.\"\n",
    "\n",
    "Then, after checking diagnostics...\n",
    "\n",
    " - display a histogram of the posterior for $\\theta$\n",
    " - display a histogram of the posterior for the transformed parameter, too.\n",
    " - report estimates of the mean, 5th and 95th percentiles of the posterior of the unconstrained $\\theta$\n",
    " - comment on whether your posterior mean is close to the frequentist estimator (which is the sample mean of your data)\n"
   ]
  },
  {
   "cell_type": "markdown",
   "id": "071165f7-4e25-49b9-95de-3e9ed593b3b4",
   "metadata": {},
   "source": [
    "4.\n",
    "\n",
    "Now use `stan` to estimate a slightly reparameterized model. Suppose you want to use a normal prior on an unconstrained parameter. Notice that if something is positive, then the (natural) log of it is unconstrained. Similarly, if something is unconstrained, the exponential of it is positive.\n",
    "\n",
    "Therefore, use the following model\n",
    "\n",
    "\n",
    "$$\n",
    "\\theta \\sim \\text{Normal}(a,b)\n",
    "$$\n",
    "and\n",
    "$$\n",
    "y_i \\mid \\theta \\sim \\text{Poisson}(e^{\\theta})\n",
    "$$\n",
    "\n",
    "    \n",
    "Use `stan` to estimate your model for the \"DriversKilled\" column. Please be sure to \n",
    "\n",
    " - report an $\\hat{R}$ diagnostic and comment on whether it is close to $1$\n",
    " - display trace plots of your samples obtained and comment on whether they look like \"fuzzy caterpillars.\"\n",
    "\n",
    "Then, after checking diagnostics...\n",
    "\n",
    " - display a histogram of the posterior for $\\theta$\n",
    " - display a histogram of the posterior for the transformed parameter, too.\n",
    " - report estimates of the mean, 5th and 95th percentiles of the posterior of the unconstrained $\\theta$\n",
    " - comment on whether your posterior mean is close to the frequentist estimator (which is the sample mean of your data)\n"
   ]
  },
  {
   "cell_type": "markdown",
   "id": "cab15444-391f-44be-b9ec-1a8fe5e3ddb9",
   "metadata": {},
   "source": [
    "### Problem 2: Binomial Data (again!)\n",
    "\n",
    "Suppose that you have $m > 1$ count data points $y_1, \\ldots, y_m$, each having a $\\text{Binomial}(n,\\eta)$ distribution. Assume further that they're all independent.\n",
    "\n",
    "Here $n$ is the maximum for each data point. $m$ is the number of data points.\n",
    "\n",
    "In our second homework we used the beta prior for the parameter that was bounded between $0$ and $1$. \n",
    "\n",
    "Now, you must use a normal prior for an unconstrained parameter. \n",
    "\n",
    "If $0 < \\eta < 1$, then the *logit* transformation is a way to make $-\\infty < \\theta < \\infty$ (unconstrained). Alternatively, if you have $\\eta$ that's unconstrained, then the `inv_logit` will squash the value to lie between $0$ and $1$.\n",
    "\n",
    "\n",
    "`stan` conveniently has a `logit()` and an `inv_logit()` function already made for you.\n",
    "\n"
   ]
  },
  {
   "cell_type": "markdown",
   "id": "8060401f-f342-461b-9267-35030e06404d",
   "metadata": {},
   "source": [
    "Use `stan` to estimate your model on any fictitious data you would like. Be sure to\n",
    "\n",
    " - report an $\\hat{R}$ diagnostic and comment on whether it is close to $1$\n",
    " - display trace plots of your samples obtained and comment on whether they look like \"fuzzy caterpillars.\"\n",
    "\n",
    "Then, after checking diagnostics...\n",
    "\n",
    " - display a histogram of the posterior for $\\theta$\n",
    " - display a histogram of the posterior for the transformed parameter, too.\n",
    " - report estimates of the mean, 5th and 95th percentiles of the posterior of the unconstrained $\\theta$\n",
    " - comment on whether your posterior mean is close to the frequentist estimator (which is the sample mean of your data, again).\n"
   ]
  }
 ],
 "metadata": {
  "kernelspec": {
   "display_name": "Python (Docker)",
   "language": "python",
   "name": "docker-env"
  },
  "language_info": {
   "codemirror_mode": {
    "name": "ipython",
    "version": 3
   },
   "file_extension": ".py",
   "mimetype": "text/x-python",
   "name": "python",
   "nbconvert_exporter": "python",
   "pygments_lexer": "ipython3",
   "version": "3.11.9"
  }
 },
 "nbformat": 4,
 "nbformat_minor": 5
}
